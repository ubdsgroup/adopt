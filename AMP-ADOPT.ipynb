{
 "cells": [
  {
   "cell_type": "code",
   "execution_count": 1,
   "metadata": {
    "collapsed": false
   },
   "outputs": [
    {
     "ename": "NameError",
     "evalue": "name 'HTML' is not defined",
     "output_type": "error",
     "traceback": [
      "\u001b[0;31m---------------------------------------------------------------------------\u001b[0m",
      "\u001b[0;31mNameError\u001b[0m                                 Traceback (most recent call last)",
      "\u001b[0;32m<ipython-input-1-5ff1f9db2246>\u001b[0m in \u001b[0;36m<module>\u001b[0;34m()\u001b[0m\n\u001b[1;32m     48\u001b[0m \"\"\"\n\u001b[1;32m     49\u001b[0m \u001b[0;34m\u001b[0m\u001b[0m\n\u001b[0;32m---> 50\u001b[0;31m \u001b[0mHTML\u001b[0m\u001b[0;34m(\u001b[0m\u001b[0minput_form\u001b[0m \u001b[0;34m+\u001b[0m \u001b[0mjavascript\u001b[0m\u001b[0;34m)\u001b[0m\u001b[0;34m\u001b[0m\u001b[0m\n\u001b[0m",
      "\u001b[0;31mNameError\u001b[0m: name 'HTML' is not defined"
     ]
    }
   ],
   "source": [
    "# Example from http://jakevdp.github.io/blog/2013/06/01/ipython-notebook-javascript-python-communication/ adapted for IPython 2.0\n",
    "# Add an input form similar to what we saw above\n",
    "input_form = \"\"\"\n",
    "<div style=\"background-color:gainsboro; border:solid black; width:600px; padding:20px;\">\n",
    "Code: <input type=\"text\" id=\"code_input\" size=\"50\" height=\"2\" value=\"sin(pi / 2)\"><br>\n",
    "Result: <input type=\"text\" id=\"result_output\" size=\"50\" value=\"1.0\"><br>\n",
    "<button onclick=\"exec_code()\">Execute</button>\n",
    "</div>\n",
    "\"\"\"\n",
    " \n",
    "# here the javascript has a function to execute the code\n",
    "# within the input box, and a callback to handle the output.\n",
    "javascript = \"\"\"\n",
    "<script type=\"text/Javascript\">\n",
    "   function handle_output(out){\n",
    "//       console.log(out_type);\n",
    "       console.log(out);\n",
    "       var res = null;\n",
    "        // if output is a print statement\n",
    "       if(out.msg_type == \"stream\"){\n",
    "           res = out.content.data;\n",
    "       }\n",
    "       // if output is a python object\n",
    "       else if(out.msg_type === \"pyout\"){\n",
    "           res = out.content.data[\"text/plain\"];\n",
    "       }\n",
    "       // if output is a python error\n",
    "       else if(out.msg_type == \"pyerr\"){\n",
    "           res = out.content.ename + \": \" + out.content.evalue;\n",
    "       }\n",
    "       // if output is something we haven't thought of\n",
    "       else{\n",
    "           res = \"[out type not implemented]\";  \n",
    "       }\n",
    "       document.getElementById(\"result_output\").value = res;\n",
    "   }\n",
    "   \n",
    "   function exec_code(){\n",
    "       var code_input = document.getElementById('code_input').value;\n",
    "       var kernel = IPython.notebook.kernel;\n",
    "       var callbacks = { 'iopub' : {'output' : handle_output}};\n",
    "       document.getElementById(\"result_output\").value = \"\";  // clear output box\n",
    "       var msg_id = kernel.execute(code_input, callbacks, {silent:false});\n",
    "       console.log(\"button pressed\");\n",
    "       // IPython.notebook.clear_output();\n",
    "   }\n",
    "</script>\n",
    "\"\"\"\n",
    " \n",
    "HTML(input_form + javascript)"
   ]
  }
 ],
 "metadata": {
  "kernelspec": {
   "display_name": "Python 2",
   "language": "python",
   "name": "python2"
  },
  "language_info": {
   "codemirror_mode": {
    "name": "ipython",
    "version": 2
   },
   "file_extension": ".py",
   "mimetype": "text/x-python",
   "name": "python",
   "nbconvert_exporter": "python",
   "pygments_lexer": "ipython2",
   "version": "2.7.11"
  }
 },
 "nbformat": 4,
 "nbformat_minor": 0
}
