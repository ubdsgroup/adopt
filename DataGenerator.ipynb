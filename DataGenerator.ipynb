{
 "cells": [
  {
   "cell_type": "markdown",
   "metadata": {},
   "source": [
    "### Collection of synthetic datasets"
   ]
  },
  {
   "cell_type": "code",
   "execution_count": 45,
   "metadata": {
    "collapsed": false
   },
   "outputs": [
    {
     "data": {
      "text/html": [
       "<style>\n",
       "table,td,tr,th {border:0!important;cellpadding:0,cellspacing:0}\n",
       "</style>"
      ],
      "text/plain": [
       "<IPython.core.display.HTML object>"
      ]
     },
     "metadata": {},
     "output_type": "display_data"
    }
   ],
   "source": [
    "%%html\n",
    "<style>\n",
    "table,td,tr,th {border:0!important;cellpadding:0,cellspacing:0}\n",
    "</style>"
   ]
  },
  {
   "cell_type": "code",
   "execution_count": 17,
   "metadata": {
    "collapsed": false
   },
   "outputs": [],
   "source": [
    "def plotscatter(data,labels):\n",
    "    fig = plt.figure(figsize=[6,6])\n",
    "    ax = plt.subplot(111)\n",
    "    plt.scatter(data[np.where(labels.flatten()==0),0],data[np.where(labels.flatten()==0),1],marker='x',c='g')\n",
    "    plt.scatter(data[np.where(labels.flatten()==1),0],data[np.where(labels.flatten()==1),1],marker='o',c='r',s=50,alpha=0.5)\n",
    "    plt.axis('off')\n",
    "    return fig,ax"
   ]
  },
  {
   "cell_type": "markdown",
   "metadata": {},
   "source": [
    "#### Data Set 1:\n",
    "<table border=none>\n",
    "<tr>\n",
    "<td>Single cluster with one anomaly</td>\n",
    "<td><img src='example1.png' width=360px/></td>\n",
    "</tr>\n",
    "</table>"
   ]
  },
  {
   "cell_type": "code",
   "execution_count": 1,
   "metadata": {
    "collapsed": false
   },
   "outputs": [],
   "source": [
    "def genData1():\n",
    "    n = 1000\n",
    "    x1 = np.random.uniform(4,8,n)\n",
    "    x2 = np.random.uniform(4,8,n)\n",
    "    data = np.transpose(np.vstack([x1,x2]))\n",
    "    data = data[np.sum(pow((data - [6,6]),2),axis=1) < 4,:]\n",
    "    labels = np.zeros([data.shape[0],1])\n",
    "\n",
    "    # add outliers\n",
    "    data = np.vstack([data,[4,4]])\n",
    "    labels = np.vstack([labels,[1]])\n",
    "\n",
    "    data = np.array(data)\n",
    "    data = np.vstack(data)\n",
    "    return data,labels\n",
    "\n",
    "#data,labels = genData1()\n",
    "#fig,ax = plotscatter(data,labels)\n",
    "#ax.annotate('$o_1$', xy=(4.1, 4.1),size=24)\n",
    "#, xytext=(3, 4),arrowprops=dict(facecolor='black', shrink=0),)\n",
    "#fig.savefig('example1.png', format='png', transparent=True,dpi=360)"
   ]
  },
  {
   "cell_type": "markdown",
   "metadata": {},
   "source": [
    "#### Data Set 2:\n",
    "<table border=none>\n",
    "<tr>\n",
    "<td>Two clusters with one anomaly</td>\n",
    "<td><img src='example2.png' width=360px/></td>\n",
    "</tr>\n",
    "</table>"
   ]
  },
  {
   "cell_type": "code",
   "execution_count": 2,
   "metadata": {
    "collapsed": false
   },
   "outputs": [],
   "source": [
    "def genData2():\n",
    "    n = 200\n",
    "    x1 = np.random.uniform(4,8,n)\n",
    "    x2 = np.random.uniform(4,8,n)\n",
    "    data = np.random.multivariate_normal([6,6],[[0.6,0],[0,0.6]],n)\n",
    "    #data = np.transpose(np.vstack([x1,x2]))\n",
    "    data = data[np.sum(pow((data - [6,6]),2),axis=1) < 4,:]\n",
    "\n",
    "\n",
    "    n = 200\n",
    "    x1 = np.random.uniform(2,3,n)\n",
    "    x2 = np.random.uniform(2,3,n)\n",
    "    data1 = np.transpose(np.vstack([x1,x2]))\n",
    "    data1 = data1[np.sum(pow((data1 - [2.5,2.5]),2),axis=1) < 0.2,:]\n",
    "\n",
    "    data = np.vstack([data1,data])\n",
    "    labels = np.zeros([data.shape[0],1])\n",
    "    # add outliers\n",
    "    data = np.vstack([data,[3.1,3.1]])\n",
    "    labels = np.vstack([labels,[1]])\n",
    "\n",
    "    data = np.array(data)\n",
    "    data = np.vstack(data)\n",
    "    return data,labels\n",
    "#data,labels = genData2()\n",
    "#fig,ax = plotscatter(data,labels)\n",
    "#ax.annotate('$o_1$', xy=(3.2, 3.1),size=24)\n",
    "#fig.savefig('example2.png', format='png', transparent=True,dpi=360)\n"
   ]
  },
  {
   "cell_type": "markdown",
   "metadata": {},
   "source": [
    "#### Data Set 3:\n",
    "<table border=none>\n",
    "<tr>\n",
    "<td>2D Gaussian with one anomaly</td>\n",
    "<td><img src='example3.png' width=360px/></td>\n",
    "</tr>\n",
    "</table>"
   ]
  },
  {
   "cell_type": "code",
   "execution_count": 39,
   "metadata": {
    "collapsed": false
   },
   "outputs": [],
   "source": [
    "def genData3():\n",
    "    n = 1000\n",
    "    x1 = np.random.uniform(4,8,n)\n",
    "    x2 = np.random.uniform(4,8,n)\n",
    "    data = np.random.multivariate_normal([6,6],[[4,3],[1,1]],n)\n",
    "    #data = np.transpose(np.vstack([x1,x2]))\n",
    "    #data = data[np.sum(pow((data - [6,6]),2),axis=1) < 4,:]\n",
    "\n",
    "    labels = np.zeros([data.shape[0],1])\n",
    "    # add outliers\n",
    "    data = np.vstack([data,[6.9,3.7]])\n",
    "    labels = np.vstack([labels,[1]])\n",
    "\n",
    "    data = np.array(data)\n",
    "    data = np.vstack(data)\n",
    "\n",
    "    return data,labels\n",
    "#data,labels = genData3()\n",
    "#fig,ax = plotscatter(data,labels)\n",
    "#ax.annotate('$o_1$', xy=(7.1, 3.8),size=24)\n",
    "#fig.savefig('example3.png', format='png', transparent=True,dpi=360)"
   ]
  },
  {
   "cell_type": "markdown",
   "metadata": {},
   "source": [
    "#### Data Set 4:\n",
    "<table border=none>\n",
    "<tr>\n",
    "<td>Heterogeneous clusters with several anomalies</td>\n",
    "<td><img src='example4.png' width=360px/></td>\n",
    "</tr>\n",
    "</table>"
   ]
  },
  {
   "cell_type": "code",
   "execution_count": 40,
   "metadata": {
    "collapsed": false
   },
   "outputs": [],
   "source": [
    "def genData4():\n",
    "    n = 500\n",
    "    x = np.random.uniform(4,12,n)\n",
    "    y = pow(np.sin(x),2)\n",
    "    x = x + np.random.uniform(0,0.4,n)\n",
    "    y = y + np.random.uniform(0,0.4,n)\n",
    "    data = np.transpose(np.vstack([x,y]))\n",
    "\n",
    "    n=100\n",
    "    x1 = np.random.uniform(5,5.6,n)\n",
    "    x2 = np.random.uniform(5,5.6,n)\n",
    "    data1 = np.transpose(np.vstack([x1,x2]))\n",
    "    data1 = data1[np.sum(pow((data1 - [5.3,5.3]),2),axis=1) < 0.08,:]\n",
    "    data = np.vstack([data1,data])\n",
    "\n",
    "    n=300\n",
    "    n1 = np.random.multivariate_normal([4,10],[[2,0],[0,2]],n)\n",
    "    dist = scipy.stats.multivariate_normal(mean=[4,10],cov=[[2,0],[0,2]]).pdf(n1)\n",
    "    n1= n1[dist>0.05,:]\n",
    "    data = np.vstack([data,n1])\n",
    "\n",
    "    n=800\n",
    "    x1 = np.random.uniform(8,14,n)\n",
    "    x2 = np.random.uniform(4,12,n)\n",
    "    data1 = np.transpose(np.vstack([x1,x2]))\n",
    "    data1 = data1[np.sum(pow((data1 - [11,8]),2),axis=1) > 2,:]\n",
    "    data1 = data1[np.sum(pow((data1 - [11,8]),2),axis=1) < 4,:]\n",
    "    data = np.vstack([data1,data])\n",
    "\n",
    "    labels = np.zeros([data.shape[0],1])\n",
    "\n",
    "\n",
    "    # add outliers\n",
    "    data = np.vstack([data,[[6.4,1.1],[8,0.2],[11,8]]])\n",
    "    labels = np.vstack([labels,[[1],[1],[1]]])\n",
    "\n",
    "    o = np.random.multivariate_normal([6,3],[[0.01,0],[0,0.01]],4)\n",
    "    data = np.vstack([data,o])\n",
    "    labels = np.vstack([labels,np.ones([o.shape[0],1])])\n",
    "    return data,labels\n",
    "#data,labels = genData4()\n",
    "#fig,ax = plotscatter(data,labels)\n",
    "#ax.annotate('$o_2$', xy=(11.1, 8.1),size=24)\n",
    "#ax.annotate('$o_1$', xy=(6.3, 3.1),size=24)\n",
    "#ax.annotate('$o_3$', xy=(6.4, 1.2),size=24)\n",
    "#ax.annotate('$o_4$', xy=(8.1, 0.1),size=24)\n",
    "#fig.savefig('example4.png', format='png', transparent=True,dpi=360)"
   ]
  },
  {
   "cell_type": "markdown",
   "metadata": {},
   "source": [
    "#### Data Set 5:\n",
    "<table border=none>\n",
    "<tr>\n",
    "<td>Dense anomalous region within a sparse region</td>\n",
    "<td><img src='example5.png' width=360px/></td>\n",
    "</tr>\n",
    "</table>"
   ]
  },
  {
   "cell_type": "code",
   "execution_count": 41,
   "metadata": {
    "collapsed": false
   },
   "outputs": [],
   "source": [
    "def genData5():\n",
    "    n=1000\n",
    "    data = np.random.multivariate_normal([3,3],[[4,0],[4,2]],n)\n",
    "    dist = scipy.stats.multivariate_normal(mean=[3,3],cov=[[2,0],[0,2]]).pdf(data)\n",
    "    data= data[dist>0.05,:]\n",
    "    labels = np.zeros([data.shape[0],1])\n",
    "    n = 50\n",
    "    o = np.random.multivariate_normal([3.3,3.4],[[0.001,0],[0,0.001]],n)\n",
    "    data = np.vstack([data,o])\n",
    "    labels = np.vstack([labels,np.ones([o.shape[0],1])])\n",
    "    return data,labels\n",
    "#data,labels = genData5()\n",
    "#fig,ax=plotscatter(data,labels)\n",
    "#ax.annotate('$o_1$', xy=(3.4, 3.4),size=24\n",
    "#, xytext=(4.4, 3.4),\n",
    "#            arrowprops=dict(facecolor='black',width=1,headwidth=4),\n",
    "#            )\n",
    "#fig.savefig('example5.png', format='png', transparent=True,dpi=360)"
   ]
  },
  {
   "cell_type": "markdown",
   "metadata": {},
   "source": [
    "#### Data Set 6:\n",
    "<table border=none>\n",
    "<tr>\n",
    "<td>Sparse anomalies within a dense region.</td>\n",
    "<td><img src='example6.png' width=360px/></td>\n",
    "</tr>\n",
    "</table>"
   ]
  },
  {
   "cell_type": "code",
   "execution_count": 10,
   "metadata": {
    "collapsed": false
   },
   "outputs": [],
   "source": [
    "def genData6():\n",
    "    n=5000\n",
    "    data = np.random.multivariate_normal([3,3],[[1,0],[0,1]],n)\n",
    "    dist = scipy.stats.multivariate_normal(mean=[3,3],cov=[[2,0],[0,2]]).pdf(data)\n",
    "    data= data[dist>0.05,:]\n",
    "\n",
    "    data1 = []\n",
    "    for d in data:\n",
    "        if np.sum(pow(d - [3.3,3.4],2)) > 0.15:\n",
    "            data1.append(d)\n",
    "    data = np.array(data1)\n",
    "    labels = np.zeros([data.shape[0],1])\n",
    "\n",
    "    n=10\n",
    "    x1 = np.random.uniform(3,4,n)\n",
    "    x2 = np.random.uniform(3,4,n)\n",
    "    o = np.transpose(np.vstack([x1,x2]))\n",
    "    o = o[np.sum(pow((o - [3.3,3.4]),2),axis=1) < 0.15,:]\n",
    "\n",
    "    data = np.vstack([data,o])\n",
    "    labels = np.vstack([labels,np.ones([o.shape[0],1])])\n",
    "    return data,labels\n",
    "#data,labels = genData6()\n",
    "#fig,ax=plotscatter(data,labels)\n",
    "#ax.annotate('$o_1$', xy=(3.4, 3.4),size=24\n",
    "#, xytext=(4.4, 3.4),\n",
    "#            arrowprops=dict(facecolor='black',width=1,headwidth=4),\n",
    "#            )\n",
    "#fig.savefig('example6.png', format='png', transparent=True,dpi=360)"
   ]
  },
  {
   "cell_type": "code",
   "execution_count": 14,
   "metadata": {
    "collapsed": true
   },
   "outputs": [],
   "source": [
    "def precAtK(true,predicted):\n",
    "    # find number of anomalies\n",
    "    k = np.sum(true)\n",
    "    # find the score of the k^th predicted anomaly\n",
    "    v = np.sort(predicted,axis=0)[::-1][k-1]\n",
    "    # find all objects that are above the threshold\n",
    "    inds = np.where(predicted >= v)[0]\n",
    "    return np.sum(true[inds])/len(inds)"
   ]
  },
  {
   "cell_type": "code",
   "execution_count": 15,
   "metadata": {
    "collapsed": true
   },
   "outputs": [],
   "source": [
    "def averageRank(true,predicted):\n",
    "    inds = np.where(true == 1)[0]\n",
    "    s = np.argsort(predicted)[::-1]\n",
    "    v = []\n",
    "    for ind in inds:\n",
    "        v.append(float(np.where(s == ind)[0]+1))\n",
    "    return np.mean(v)"
   ]
  }
 ],
 "metadata": {
  "kernelspec": {
   "display_name": "Python 2",
   "language": "python",
   "name": "python2"
  },
  "language_info": {
   "codemirror_mode": {
    "name": "ipython",
    "version": 2
   },
   "file_extension": ".py",
   "mimetype": "text/x-python",
   "name": "python",
   "nbconvert_exporter": "python",
   "pygments_lexer": "ipython2",
   "version": "2.7.11"
  }
 },
 "nbformat": 4,
 "nbformat_minor": 0
}
