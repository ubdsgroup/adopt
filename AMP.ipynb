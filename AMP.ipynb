{
 "cells": [
  {
   "cell_type": "markdown",
   "metadata": {},
   "source": [
    "### Anomalies by Message Passing (AMP) code\n",
    "Author: Varun Chandola (All Rights Reserved)\n",
    "Contact: chandola@buffalo.edu"
   ]
  },
  {
   "cell_type": "code",
   "execution_count": 1,
   "metadata": {
    "collapsed": false
   },
   "outputs": [
    {
     "name": "stderr",
     "output_type": "stream",
     "text": [
      "ERROR: File `u'DataGenerator.ipynb.py'` not found.\n"
     ]
    }
   ],
   "source": [
    "import numpy as np\n",
    "import matplotlib.pyplot as plt\n",
    "import scipy.spatial as sp\n",
    "from math import sqrt\n",
    "from scipy.stats import multivariate_normal as mvn\n",
    "import pickle\n",
    "import mpld3\n",
    "from scipy.stats import pearsonr\n",
    "import time\n",
    "from sklearn import manifold\n",
    "%run DataGenerator.ipynb \n",
    "%matplotlib inline"
   ]
  },
  {
   "cell_type": "markdown",
   "metadata": {},
   "source": [
    "## ITERATIVE ANOMALY DETECTION ALGORITHM - June 7 2016\n",
    "** Quality function **\n",
    "- Q1 - tightest ROI\n",
    "- Q2 - homogeneous ROI\n",
    "- Q3 - ?\n",
    "\n",
    "** Initialization function **\n",
    "- V1 - Start with only $M_{ii} = 1$\n",
    "    - V1.1 - Introduce an epsilon threshold\n",
    "- V2 - Start with all $M_{ij} = 1$\n",
    "- V3 - Randomly assign some $M_{ij} = 1$\n"
   ]
  },
  {
   "cell_type": "code",
   "execution_count": 4,
   "metadata": {
    "collapsed": false
   },
   "outputs": [],
   "source": [
    "datasets = pickle.load(open('datasets.pickle','r'))"
   ]
  },
  {
   "cell_type": "code",
   "execution_count": 9,
   "metadata": {
    "collapsed": false
   },
   "outputs": [],
   "source": [
    "# try amp1\n",
    "for i in range(1,2):\n",
    "    data,labels = datasets[i]\n",
    "    D = sp.distance.pdist(data)\n",
    "    D = sp.distance.squareform(D)\n",
    "    S = np.exp(-D)"
   ]
  },
  {
   "cell_type": "code",
   "execution_count": 6,
   "metadata": {
    "collapsed": false
   },
   "outputs": [],
   "source": [
    "# create small data sets\n",
    "S = np.array([[1,0.8,0.8,0.1],[0.8,1,0.8,0.1],[0.8,0.8,1,0.1],[0.1,0.1,0.1,1]])"
   ]
  },
  {
   "cell_type": "code",
   "execution_count": 7,
   "metadata": {
    "collapsed": true
   },
   "outputs": [],
   "source": [
    "S = np.array([[1.00,0.95,0.95,0.50,0.05,0.05,0.05],\n",
    "              [0.95,1.00,0.95,0.50,0.05,0.05,0.05],\n",
    "              [0.95,0.95,1.00,0.50,0.05,0.05,0.05],\n",
    "              [0.50,0.50,0.50,1.0,0.50,0.50,0.50],\n",
    "              [0.05,0.05,0.05,0.50,1.00,0.95,0.95],\n",
    "              [0.05,0.05,0.05,0.50,0.95,1.00,0.95],\n",
    "              [0.05,0.05,0.05,0.50,0.95,0.95,1.00]])"
   ]
  },
  {
   "cell_type": "code",
   "execution_count": 10,
   "metadata": {
    "collapsed": false
   },
   "outputs": [
    {
     "data": {
      "text/plain": [
       "<matplotlib.collections.PathCollection at 0x10ff323d0>"
      ]
     },
     "execution_count": 10,
     "metadata": {},
     "output_type": "execute_result"
    },
    {
     "data": {
      "image/png": "[encoded data removed]",
      "text/plain": [
       "<matplotlib.figure.Figure at 0x10fca9310>"
      ]
     },
     "metadata": {},
     "output_type": "display_data"
    }
   ],
   "source": [
    "mds = manifold.MDS(dissimilarity='precomputed')\n",
    "y = mds.fit_transform(1-S)\n",
    "plt.scatter(y[:,0],y[:,1])"
   ]
  },
  {
   "cell_type": "code",
   "execution_count": 11,
   "metadata": {
    "collapsed": false
   },
   "outputs": [],
   "source": [
    "def quality(m,s,opt='tight'):\n",
    "    '''\n",
    "    computes the quality of a region of influence.\n",
    "    quality is equal to the similarity with the farthest object in its ROI\n",
    "    '''\n",
    "    if opt not in ['tight','uniform','filled']:\n",
    "        raise ValueError('Unsupported option')\n",
    "    \n",
    "    if opt == 'tight':\n",
    "        return np.min(s[m > 0])\n",
    "    elif opt == 'uniform':\n",
    "        return 1- np.std(s[m > 0])\n",
    "    elif opt == 'filled':\n",
    "        return np.min(s[m > 0])/np.sum(m)"
   ]
  },
  {
   "cell_type": "code",
   "execution_count": 12,
   "metadata": {
    "collapsed": false
   },
   "outputs": [],
   "source": [
    "def qualitydiff(m,s,j,opt='tight'):\n",
    "    '''\n",
    "    compute the difference in the quality of ROI after 'flipping' the bit in m[j]\n",
    "    '''\n",
    "    m1 = m.copy()\n",
    "    m1[j] = np.abs(m[j]-1)\n",
    "    return quality(m1,s,opt=opt) - quality(m,s,opt=opt)"
   ]
  },
  {
   "cell_type": "code",
   "execution_count": 13,
   "metadata": {
    "collapsed": true
   },
   "outputs": [],
   "source": [
    "def initM(N,opt='diag',p=0.1,S=[]):\n",
    "    '''\n",
    "    initialize M matrix\n",
    "    '''\n",
    "    if opt not in ['diag','all','rand','randone','near','far']:\n",
    "        raise ValueError('Unsupported option')\n",
    "    \n",
    "    if opt == 'diag':\n",
    "        M = np.eye(N)\n",
    "    elif opt == 'all':\n",
    "        M = np.ones([N,N])\n",
    "    elif opt == 'rand':\n",
    "        m = np.zeros([N*N])\n",
    "        t = int(np.round(p*N*N))\n",
    "        m[0:t] = 1\n",
    "        np.random.shuffle(m)\n",
    "        M = np.reshape(m,[N,N])\n",
    "    elif opt == 'randone':\n",
    "        M = np.zeros([N,N])\n",
    "        for i in range(N):\n",
    "            ri = (i + np.random.randint(N)+1)%N\n",
    "            M[i,ri] = 1\n",
    "    elif opt == 'near':\n",
    "        M = np.zeros([N,N])\n",
    "        if len(S) == 0 or S.shape != (N,N):\n",
    "            raise ValueError('This option requires a (N x N) similarity matrix')\n",
    "        np.fill_diagonal(S,-float(\"inf\")*np.ones([N,1]))\n",
    "        mS = np.argmax(S,axis=1)\n",
    "        for i in range(N): \n",
    "            M[i,mS[i]] = 1\n",
    "        np.fill_diagonal(S,np.ones([N,1]))\n",
    "    elif opt == 'far':\n",
    "        M = np.zeros([N,N])\n",
    "        if len(S) == 0 or S.shape != (N,N):\n",
    "            raise ValueError('This option requires a (N x N) similarity matrix')\n",
    "        mS = np.argmin(S,axis=1)\n",
    "        for i in range(N): \n",
    "            M[i,mS[i]] = 1\n",
    "    else:\n",
    "        raise ValueError('Unsupported option')\n",
    "    return M"
   ]
  },
  {
   "cell_type": "code",
   "execution_count": 14,
   "metadata": {
    "collapsed": false
   },
   "outputs": [
    {
     "data": {
      "text/plain": [
       "<matplotlib.colorbar.Colorbar at 0x11363b490>"
      ]
     },
     "execution_count": 14,
     "metadata": {},
     "output_type": "execute_result"
    },
    {
     "data": {
      "image/png": "[encoded data removed]",
      "text/plain": [
       "<matplotlib.figure.Figure at 0x10ff7bf10>"
      ]
     },
     "metadata": {},
     "output_type": "display_data"
    }
   ],
   "source": [
    "## INPUTS - S (matrix of similarities), Q (function for computing quality of ROI)\n",
    "## STEP 1 - Initialize M\n",
    "N = S.shape[0]\n",
    "Minit = initM(N,'near',p=0.25,S=S)\n",
    "M = Minit.copy()\n",
    "np.fill_diagonal(M,np.ones([N,1]))\n",
    "qualityfunc = 'filled'\n",
    "for iters in range(25):\n",
    "    ## STEP 2 - Each object computes quality of its ROI\n",
    "    q = np.zeros([N,])\n",
    "    for i in range(N):\n",
    "        q[i] = quality(M[i,:],S[i,:],opt=qualityfunc)\n",
    "    ## STEP 3 - Each object computes the delta for every other object\n",
    "    delta = np.zeros([N,N])\n",
    "    for i in range(N):\n",
    "        for j in range(N):\n",
    "            if i != j:\n",
    "                delta[i,j] = np.sum(M[:,i])*qualitydiff(M[i,:],S[i,:],j,opt=qualityfunc) + pow(-1,M[i,j])*q[j]\n",
    "    ## STEP 4 - Each object updates its ROI\n",
    "    for i in range(N):\n",
    "        for j in range(N):\n",
    "            if delta[i,j] > 0:\n",
    "                M[i,j] = np.abs(M[i,j] - 1)\n",
    "    ## GOTO Step 2\n",
    "## DONE\n",
    "fig = plt.figure(figsize=[12,6])\n",
    "plt.subplot(1,2,1)\n",
    "plt.imshow(Minit)\n",
    "plt.colorbar()\n",
    "plt.subplot(1,2,2)\n",
    "plt.imshow(M)\n",
    "plt.colorbar()"
   ]
  },
  {
   "cell_type": "code",
   "execution_count": null,
   "metadata": {
    "collapsed": false
   },
   "outputs": [],
   "source": [
    "fig = plt.figure(figsize=[8,8])\n",
    "cmap=plt.colormaps()[33] \n",
    "rho = np.sum(M,axis=0)\n",
    "#scatter = plt.scatter(data[:,0],data[:,1],alpha=0.5,c=labels,s=s,cmap=cmap)\n",
    "scatter = plt.scatter(data[:,0],data[:,1],alpha=0.5,c=labels,cmap=cmap)\n",
    "labels1 = ['%d - %f'%(i,rho[i]) for i in range(N)]\n",
    "tooltip = mpld3.plugins.PointLabelTooltip(scatter, labels=labels1)\n",
    "mpld3.plugins.connect(fig, tooltip)\n",
    "mpld3.display()"
   ]
  },
  {
   "cell_type": "code",
   "execution_count": null,
   "metadata": {
    "collapsed": true
   },
   "outputs": [],
   "source": [
    "from tempfile import NamedTemporaryFile\n",
    "from matplotlib import animation\n",
    "from IPython.display import HTML\n",
    "\n",
    "VIDEO_TAG = \"\"\"<video controls>\n",
    " <source src=\"data:video/x-m4v;base64,{0}\" type=\"video/mp4\">\n",
    " Your browser does not support the video tag.\n",
    "</video>\"\"\"\n",
    "\n",
    "def anim_to_html(anim,fps):\n",
    "    if not hasattr(anim, '_encoded_video'):\n",
    "        with NamedTemporaryFile(suffix='.mp4') as f:\n",
    "            anim.save(f.name, fps=fps, extra_args=['-vcodec', 'libx264'])\n",
    "            video = open(f.name, \"rb\").read()\n",
    "        anim._encoded_video = video.encode(\"base64\")\n",
    "    \n",
    "    return VIDEO_TAG.format(anim._encoded_video)\n",
    "\n",
    "\n",
    "def display_animation(anim,fps=10):\n",
    "    plt.close(anim._fig)\n",
    "    return HTML(anim_to_html(anim,fps))"
   ]
  },
  {
   "cell_type": "code",
   "execution_count": null,
   "metadata": {
    "collapsed": false
   },
   "outputs": [],
   "source": [
    "def amp1(D,eps=0.1,maxiters=10,alpha=1):\n",
    "\n",
    "    N = D.shape[0]\n",
    "    # INITIALIZATION\n",
    "    D1 = D.copy()\n",
    "    np.fill_diagonal(D1,float(\"inf\")*np.ones([N,1]))\n",
    "    mu = np.zeros([N,1])\n",
    "    sigma = np.ones([N,1])\n",
    "\n",
    "    rho = np.zeros([N,1])\n",
    "    E = np.zeros([N,N])\n",
    "    A = np.zeros([N,N])\n",
    "    scores = []\n",
    "    rhos = []\n",
    "    # ITERATIVE PHASE\n",
    "    for iters in range(maxiters):\n",
    "        rhos.append(rho)\n",
    "        '''\n",
    "        compute E[i,j]\n",
    "        E[i,j] is a message from i to j to indicate the willingness of i to be included in the ROI of j\n",
    "        '''\n",
    "        E = np.zeros([N,N])\n",
    "        mu_ = np.tile(mu,[1,N])\n",
    "        sigma_ = np.tile(sigma,[1,N])\n",
    "        irho_ = 1 - np.tile(rho,[1,N])\n",
    "        msg1 = np.abs(mu_ - D)/sigma_\n",
    "        E = np.exp(-alpha*D)*np.exp(-alpha*msg1)    \n",
    "        np.fill_diagonal(E,np.zeros([N,1]))\n",
    "        E = E*irho_\n",
    "\n",
    "        '''\n",
    "        Update mu[j] and sigma[j] using E[i,j] for all i. \n",
    "        '''\n",
    "        sums = np.sum(E,axis=0)\n",
    "        i_sums = np.where(sums == 0)[0]\n",
    "        sums[i_sums] = 1\n",
    "\n",
    "        mu = np.sum(E*D,axis=0)/sums\n",
    "        mu[i_sums] = eps\n",
    "\n",
    "        mu_ = np.tile(np.transpose(mu),[N,1])\n",
    "        D1 = D - mu_\n",
    "        sigma = np.sqrt(np.sum(E*(D1**2),axis=0))/sums\n",
    "        sigma[i_sums] = eps\n",
    "        sigma[sigma == 0.0] = eps\n",
    "\n",
    "        '''\n",
    "        compute message A, A[i,j] is a message from xj to xi \n",
    "        indicating j's willingness to include i in its ROI\n",
    "        '''\n",
    "        A = np.zeros([N,N])\n",
    "        mu_ = np.tile(mu,[N,1])\n",
    "        sigma_ = np.tile(sigma,[N,1])\n",
    "        msg2 = np.abs(mu_ - D)/sigma\n",
    "        A =  np.exp(-alpha*D)*np.exp(-alpha*msg2)\n",
    "        np.fill_diagonal(A,np.zeros([N,1]))\n",
    "\n",
    "        '''\n",
    "        compute rho[i] - anomaly score of i\n",
    "        rho_i is computed as the weighted sum of the A[i,j] message coming\n",
    "        from all x_j's. The weight is the message E[i,j] value that x_i had\n",
    "        sent to x_j earlier\n",
    "        '''\n",
    "\n",
    "        rho = np.sum(A,axis=1)\n",
    "        rho = np.exp(-alpha*rho[:,np.newaxis])\n",
    "        \n",
    "        mu = mu[:,np.newaxis]\n",
    "        sigma = sigma[:,np.newaxis]\n",
    "    # append the final solution\n",
    "    rhos.append(rho)\n",
    "    return rho,rhos,A,mu,sigma"
   ]
  },
  {
   "cell_type": "code",
   "execution_count": null,
   "metadata": {
    "collapsed": false
   },
   "outputs": [],
   "source": [
    "# try amp1\n",
    "for i in range(4,5):\n",
    "    data,labels = datasets[i]\n",
    "    D = sp.distance.pdist(data)\n",
    "    D = sp.distance.squareform(D)\n",
    "    N = data.shape[0]"
   ]
  },
  {
   "cell_type": "code",
   "execution_count": null,
   "metadata": {
    "collapsed": false
   },
   "outputs": [],
   "source": [
    "alpha = 1\n",
    "eps = 0.1\n",
    "rho,rhos,A,mu,sigma = amp1(D,eps=eps,maxiters=20,alpha=alpha)\n",
    "preds = rho.flatten()\n",
    "print \"%.2f,%.2f\"%(precAtK(labels,preds),averageRank(labels,preds))"
   ]
  },
  {
   "cell_type": "code",
   "execution_count": null,
   "metadata": {
    "collapsed": true
   },
   "outputs": [],
   "source": [
    "fig = plt.figure(figsize=[8,8])\n",
    "cmap=plt.colormaps()[33] \n",
    "if max(rho) > 0:\n",
    "    s = 120*(rho - min(rho)+np.mean(rho))/max(rho)\n",
    "    \n",
    "    scatter = plt.scatter(data[:,0],data[:,1],alpha=0.5,c=labels,s=s,cmap=cmap)\n",
    "else:\n",
    "    scatter = plt.scatter(data[:,0],data[:,1],alpha=0.5,c=labels,cmap=cmap)\n",
    "\n",
    "labels1 = ['%d - %f'%(i,rho[i]) for i in range(N)]\n",
    "tooltip = mpld3.plugins.PointLabelTooltip(scatter, labels=labels1)\n",
    "mpld3.plugins.connect(fig, tooltip)\n",
    "mpld3.display()"
   ]
  },
  {
   "cell_type": "code",
   "execution_count": null,
   "metadata": {
    "collapsed": true
   },
   "outputs": [],
   "source": [
    "# First set up the figure, the axis, and the plot element we want to animate\n",
    "fig = plt.figure(figsize=[10,8])\n",
    "ax = fig.gca()\n",
    "scat = ax.scatter(data[:,0],data[:,1],s=48,alpha=0.6)\n",
    "# animation function.  This is called sequentially\n",
    "def init():\n",
    "    return scat\n",
    "\n",
    "def animate(i,rhos):\n",
    "    rho = rhos[i].flatten()\n",
    "    if max(rho) > 0:\n",
    "        s = 1 + 200*(rho - min(rho)+np.mean(rho))/max(rho)\n",
    "    else:\n",
    "        s = 1 + 200*rho\n",
    "    scat.set_sizes(s)\n",
    "    return scat\n",
    "\n",
    "# call the animator.  blit=True means only re-draw the parts that have changed.\n",
    "anim = animation.FuncAnimation(fig, animate,init_func=init,fargs=[rhos],\n",
    "                               frames=len(rhos), interval=10000, blit=True,repeat=True)\n",
    "# call our new function to display the animation\n",
    "display_animation(anim)"
   ]
  },
  {
   "cell_type": "code",
   "execution_count": null,
   "metadata": {
    "collapsed": false
   },
   "outputs": [],
   "source": []
  },
  {
   "cell_type": "code",
   "execution_count": null,
   "metadata": {
    "collapsed": false
   },
   "outputs": [],
   "source": []
  },
  {
   "cell_type": "code",
   "execution_count": null,
   "metadata": {
    "collapsed": false
   },
   "outputs": [],
   "source": []
  },
  {
   "cell_type": "code",
   "execution_count": null,
   "metadata": {
    "collapsed": false
   },
   "outputs": [],
   "source": []
  },
  {
   "cell_type": "code",
   "execution_count": null,
   "metadata": {
    "collapsed": false
   },
   "outputs": [],
   "source": [
    "Writer = animation.writers['ffmpeg']\n",
    "writer = Writer(fps=15, metadata=dict(artist='Varun Chandola'), bitrate=1800)\n",
    "anim.save('/Users/chandola/Research/presentations/upbeat2016_talk/ampdata3.mp4', writer=writer)"
   ]
  },
  {
   "cell_type": "code",
   "execution_count": null,
   "metadata": {
    "collapsed": false
   },
   "outputs": [],
   "source": [
    "def modify(opt='diag'):\n",
    "    if opt not in ['diag','all','rand','randone','near','far']:\n",
    "        raise ValueError('Unsupported option')\n",
    "    return 1\n"
   ]
  },
  {
   "cell_type": "code",
   "execution_count": null,
   "metadata": {
    "collapsed": false
   },
   "outputs": [],
   "source": [
    "# New algorithm\n",
    "# initialize every object with no coverage (or maybe covering itself)\n",
    "# at each step, every object evaluates the benefit of including every other item into its ROI\n",
    "# if the difference in the quality is less than lambda, then include the object"
   ]
  },
  {
   "cell_type": "code",
   "execution_count": null,
   "metadata": {
    "collapsed": true
   },
   "outputs": [],
   "source": []
  }
 ],
 "metadata": {
  "kernelspec": {
   "display_name": "Python 2",
   "language": "python",
   "name": "python2"
  },
  "language_info": {
   "codemirror_mode": {
    "name": "ipython",
    "version": 2
   },
   "file_extension": ".py",
   "mimetype": "text/x-python",
   "name": "python",
   "nbconvert_exporter": "python",
   "pygments_lexer": "ipython2",
   "version": "2.7.11"
  }
 },
 "nbformat": 4,
 "nbformat_minor": 0
}
